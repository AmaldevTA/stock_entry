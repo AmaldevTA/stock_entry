{
 "cells": [
  {
   "cell_type": "code",
   "execution_count": 718,
   "metadata": {},
   "outputs": [],
   "source": [
    "import pandas as pd\n",
    "import numpy as np\n",
    "from sklearn.linear_model import LinearRegression\n",
    "import matplotlib.pyplot as plt\n",
    "import talib"
   ]
  },
  {
   "cell_type": "code",
   "execution_count": 719,
   "metadata": {},
   "outputs": [],
   "source": [
    "input_data = 'data00/10.csv'"
   ]
  },
  {
   "cell_type": "code",
   "execution_count": 720,
   "metadata": {},
   "outputs": [
    {
     "data": {
      "text/plain": [
       "(766, 4)"
      ]
     },
     "execution_count": 720,
     "metadata": {},
     "output_type": "execute_result"
    }
   ],
   "source": [
    "original_data_full = pd.read_csv(input_data)\n",
    "original_data_full.shape"
   ]
  },
  {
   "cell_type": "code",
   "execution_count": 721,
   "metadata": {},
   "outputs": [
    {
     "data": {
      "text/plain": [
       "(80, 4)"
      ]
     },
     "execution_count": 721,
     "metadata": {},
     "output_type": "execute_result"
    }
   ],
   "source": [
    "original_data = original_data_full.iloc[-160:-80,:]\n",
    "original_data.shape"
   ]
  },
  {
   "cell_type": "code",
   "execution_count": 722,
   "metadata": {},
   "outputs": [],
   "source": [
    "shortWindow = talib.DEMA(original_data[\"close\"], timeperiod=9)\n",
    "longWindow = talib.DEMA(original_data[\"close\"], timeperiod=21)"
   ]
  },
  {
   "cell_type": "code",
   "execution_count": 723,
   "metadata": {},
   "outputs": [],
   "source": [
    "split_count = 4\n",
    "input_length = int(original_data.shape[0]/split_count)"
   ]
  },
  {
   "cell_type": "code",
   "execution_count": 724,
   "metadata": {},
   "outputs": [],
   "source": [
    "data_array = []\n",
    "for i in range(0, split_count):\n",
    "    data_array.append(original_data.iloc[i*input_length : input_length*(i+1), :])"
   ]
  },
  {
   "cell_type": "code",
   "execution_count": 725,
   "metadata": {},
   "outputs": [],
   "source": [
    "x = []\n",
    "y = []\n",
    "for i in range(0, split_count):\n",
    "    close = data_array[i]['close']\n",
    "    smallest=close.nsmallest(n=1)\n",
    "    x.append(smallest.index[0])\n",
    "    y.append(smallest.values[0])"
   ]
  },
  {
   "cell_type": "code",
   "execution_count": 726,
   "metadata": {},
   "outputs": [],
   "source": [
    "X = np.asarray(x)\n",
    "X = X.reshape(-1,1)\n",
    "Y = np.asarray(y)"
   ]
  },
  {
   "cell_type": "code",
   "execution_count": 727,
   "metadata": {},
   "outputs": [
    {
     "data": {
      "text/plain": [
       "LinearRegression()"
      ]
     },
     "execution_count": 727,
     "metadata": {},
     "output_type": "execute_result"
    }
   ],
   "source": [
    "support_model = LinearRegression()\n",
    "support_model.fit(X, Y)"
   ]
  },
  {
   "cell_type": "code",
   "execution_count": 728,
   "metadata": {},
   "outputs": [],
   "source": [
    "support_line_count = np.asarray(range(shortWindow.index[0], shortWindow.index[0]+original_data.shape[0]))\n",
    "support_line = support_model.predict(support_line_count.reshape(-1,1))"
   ]
  },
  {
   "cell_type": "code",
   "execution_count": 729,
   "metadata": {},
   "outputs": [],
   "source": [
    "x = []\n",
    "y = []\n",
    "for i in range(0, split_count):\n",
    "    close = data_array[i]['close']\n",
    "    largest=close.nlargest(n=1)\n",
    "    x.append(largest.index[0])\n",
    "    y.append(largest.values[0])"
   ]
  },
  {
   "cell_type": "code",
   "execution_count": 730,
   "metadata": {},
   "outputs": [],
   "source": [
    "X = np.asarray(x)\n",
    "X = X.reshape(-1,1)\n",
    "Y = np.asarray(y)"
   ]
  },
  {
   "cell_type": "code",
   "execution_count": 731,
   "metadata": {},
   "outputs": [
    {
     "data": {
      "text/plain": [
       "LinearRegression()"
      ]
     },
     "execution_count": 731,
     "metadata": {},
     "output_type": "execute_result"
    }
   ],
   "source": [
    "resistance_model = LinearRegression()\n",
    "resistance_model.fit(X, Y)"
   ]
  },
  {
   "cell_type": "code",
   "execution_count": 732,
   "metadata": {},
   "outputs": [],
   "source": [
    "resistance_line_count = np.asarray(range(shortWindow.index[0], shortWindow.index[0]+original_data.shape[0]))\n",
    "resistance_line = resistance_model.predict(resistance_line_count.reshape(-1,1))"
   ]
  },
  {
   "cell_type": "code",
   "execution_count": 733,
   "metadata": {},
   "outputs": [
    {
     "data": {
      "text/plain": [
       "array([534.00188427])"
      ]
     },
     "execution_count": 733,
     "metadata": {},
     "output_type": "execute_result"
    }
   ],
   "source": [
    "support_model.predict([[600]])"
   ]
  },
  {
   "cell_type": "code",
   "execution_count": 734,
   "metadata": {},
   "outputs": [
    {
     "data": {
      "text/plain": [
       "array([534.5000856])"
      ]
     },
     "execution_count": 734,
     "metadata": {},
     "output_type": "execute_result"
    }
   ],
   "source": [
    "resistance_model.predict([[600]])"
   ]
  },
  {
   "cell_type": "code",
   "execution_count": 735,
   "metadata": {},
   "outputs": [
    {
     "data": {
      "text/plain": [
       "[<matplotlib.lines.Line2D at 0x1b00c8fd940>]"
      ]
     },
     "execution_count": 735,
     "metadata": {},
     "output_type": "execute_result"
    },
    {
     "data": {
      "image/png": "[encoded data removed]",
      "text/plain": [
       "<Figure size 1440x360 with 1 Axes>"
      ]
     },
     "metadata": {
      "needs_background": "light"
     },
     "output_type": "display_data"
    }
   ],
   "source": [
    "def candlestick(t, o, h, l, c):\n",
    "    plt.figure(figsize=(20,5))\n",
    "    color = [\"green\" if close_price > open_price else \"red\" for close_price, open_price in zip(c, o)]\n",
    "    plt.bar(x=t, height=np.abs(o-c), bottom=np.min((o,c), axis=0), width=0.7, color=color)\n",
    "    plt.bar(x=t, height=h-l, bottom=l, width=0.1, color=color)\n",
    "\n",
    "candlestick(\n",
    "    original_data_full.iloc[-160:,:].index,\n",
    "    original_data_full.iloc[-160:,:][\"open\"],\n",
    "    original_data_full.iloc[-160:,:][\"high\"],\n",
    "    original_data_full.iloc[-160:,:][\"low\"],\n",
    "    original_data_full.iloc[-160:,:][\"close\"]\n",
    ")\n",
    "\n",
    "plt.grid(alpha=0.2)\n",
    "resistance = pd.Series(resistance_line, index =range(shortWindow.index[0],shortWindow.index[0]+len(resistance_line)))\n",
    "support = pd.Series(support_line, index =range(shortWindow.index[0],shortWindow.index[0]+len(support_line)))\n",
    "plt.plot(shortWindow, c='m')\n",
    "plt.plot(longWindow, c='k')\n",
    "plt.plot(resistance, c='r')\n",
    "plt.plot(support, c='g')"
   ]
  },
  {
   "cell_type": "code",
   "execution_count": 736,
   "metadata": {},
   "outputs": [
    {
     "data": {
      "text/plain": [
       "LinearRegression()"
      ]
     },
     "execution_count": 736,
     "metadata": {},
     "output_type": "execute_result"
    }
   ],
   "source": [
    "price_range = [[150], [250], [350], [450]]\n",
    "price_margin = [0.70, 1.20, 1.60, 2.0]\n",
    "price_model = LinearRegression()\n",
    "price_model.fit(price_range, price_margin)"
   ]
  },
  {
   "cell_type": "code",
   "execution_count": 737,
   "metadata": {},
   "outputs": [
    {
     "data": {
      "text/plain": [
       "array([2.02])"
      ]
     },
     "execution_count": 737,
     "metadata": {},
     "output_type": "execute_result"
    }
   ],
   "source": [
    "price_model.predict([[450]])"
   ]
  },
  {
   "cell_type": "code",
   "execution_count": 738,
   "metadata": {},
   "outputs": [
    {
     "data": {
      "text/plain": [
       "LinearRegression()"
      ]
     },
     "execution_count": 738,
     "metadata": {},
     "output_type": "execute_result"
    }
   ],
   "source": [
    "price_range = [[150], [250], [350], [450]]\n",
    "price_margin = [0.60, 0.80, 1.0, 1.20]\n",
    "price_model.fit(price_range, price_margin)"
   ]
  },
  {
   "cell_type": "code",
   "execution_count": 739,
   "metadata": {},
   "outputs": [
    {
     "data": {
      "text/plain": [
       "1.2"
      ]
     },
     "execution_count": 739,
     "metadata": {},
     "output_type": "execute_result"
    }
   ],
   "source": [
    "price_model.predict([[450]])[0]"
   ]
  },
  {
   "cell_type": "code",
   "execution_count": null,
   "metadata": {},
   "outputs": [],
   "source": []
  }
 ],
 "metadata": {
  "kernelspec": {
   "display_name": "Python 3",
   "language": "python",
   "name": "python3"
  },
  "language_info": {
   "codemirror_mode": {
    "name": "ipython",
    "version": 3
   },
   "file_extension": ".py",
   "mimetype": "text/x-python",
   "name": "python",
   "nbconvert_exporter": "python",
   "pygments_lexer": "ipython3",
   "version": "3.8.8"
  }
 },
 "nbformat": 4,
 "nbformat_minor": 2
}
